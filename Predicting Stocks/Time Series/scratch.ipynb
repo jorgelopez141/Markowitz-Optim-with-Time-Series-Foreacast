{
 "cells": [
  {
   "cell_type": "markdown",
   "metadata": {},
   "source": [
    "$$ y(t) = \\alpha + \\beta t + \\gamma(t) + \\delta(t) + \\epsilon(t) $$ "
   ]
  }
 ],
 "metadata": {
  "language_info": {
   "name": "python"
  }
 },
 "nbformat": 4,
 "nbformat_minor": 2
}
