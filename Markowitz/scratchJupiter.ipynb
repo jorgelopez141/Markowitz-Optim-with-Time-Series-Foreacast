{
 "cells": [
  {
   "cell_type": "code",
   "execution_count": 1,
   "metadata": {},
   "outputs": [
    {
     "ename": "NameError",
     "evalue": "name 'time_DualAnneal' is not defined",
     "output_type": "error",
     "traceback": [
      "\u001b[1;31m---------------------------------------------------------------------------\u001b[0m",
      "\u001b[1;31mNameError\u001b[0m                                 Traceback (most recent call last)",
      "Cell \u001b[1;32mIn[1], line 1\u001b[0m\n\u001b[1;32m----> 1\u001b[0m \u001b[43mtime_DualAnneal\u001b[49m\n",
      "\u001b[1;31mNameError\u001b[0m: name 'time_DualAnneal' is not defined"
     ]
    }
   ],
   "source": [
    "time_DualAnneal"
   ]
  }
 ],
 "metadata": {
  "kernelspec": {
   "display_name": "v_ana_env",
   "language": "python",
   "name": "python3"
  },
  "language_info": {
   "codemirror_mode": {
    "name": "ipython",
    "version": 3
   },
   "file_extension": ".py",
   "mimetype": "text/x-python",
   "name": "python",
   "nbconvert_exporter": "python",
   "pygments_lexer": "ipython3",
   "version": "3.12.7"
  }
 },
 "nbformat": 4,
 "nbformat_minor": 2
}
